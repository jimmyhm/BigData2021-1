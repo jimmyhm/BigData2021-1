{
 "cells": [
  {
   "cell_type": "markdown",
   "metadata": {},
   "source": [
    "El algoritmo DBSCAN se basa en esta noción intuitiva de \"clústeres\" y \"ruido\". La idea clave es que para cada punto de un grupo, la vecindad de un radio determinado debe contener al menos un número mínimo de puntos.\n",
    "\n",
    "Los métodos de particionamiento como kmeans son adecuados solo para grupos compactos y bien separados. Y se ven gravemente afectados por la presencia de ruido y valores atípicos en los datos."
   ]
  },
  {
   "cell_type": "markdown",
   "metadata": {},
   "source": [
    "El algoritmo DBSCAN requiere dos parámetros:\n",
    "\n",
    "$\\textbf{eps}$: define la vecindad alrededor de un punto de datos, es decir, si la distancia entre dos puntos es menor o igual a \"eps\", entonces se consideran vecinos. Si el valor de eps se elige demasiado pequeño, gran parte de los datos se considerarán valores atípicos. Si se elige muy grande, los grupos se fusionarán y la mayoría de los puntos de datos estarán en los mismos grupos. Una forma de encontrar el valor de eps se basa en el gráfico de distancia k.\n",
    "\n",
    "$\\textbf{MinPts}$: número mínimo de vecinos (puntos de datos) dentro del radio eps. Cuanto mayor sea el conjunto de datos, se debe elegir el valor mayor de MinPts. Como regla general, los MinPts mínimos se pueden derivar del número de dimensiones D en el conjunto de datos como MinPts> = D + 1. El valor mínimo de MinPts debe elegirse al menos 3."
   ]
  },
  {
   "cell_type": "markdown",
   "metadata": {},
   "source": [
    "En este algoritmo, tenemos 3 tipos de puntos de datos.\n",
    "\n",
    "* Punto central (core point): un punto es un punto central si tiene más de MinPts puntos  dentro de eps.\n",
    "\n",
    "* Punto frontera (Border Point): un punto que tiene menos de MinPts dentro de eps, pero se encuentra en la vecindad de un punto central.\n",
    "\n",
    "* Ruido o valor atípico: un punto que no es un punto central o un punto fronterizo"
   ]
  },
  {
   "cell_type": "markdown",
   "metadata": {},
   "source": [
    "<img src=\"dbscan.png\">"
   ]
  },
  {
   "cell_type": "markdown",
   "metadata": {},
   "source": [
    "### Algoritmo \n",
    "\n",
    "1. Encuentramos todos los puntos vecinos dentro de eps e identificamos los puntos centrales o visitados con más vecinos que MinPts.\n",
    "2. Para cada punto central, si aún no está asignado a un clúster, creamos un nuevo clúster.\n",
    "3. Encuentramos de forma recursiva todos sus puntos conectados por densidad y los asignamos a el mismo grupo que el punto central. Se dice que un punto a y b está conectado por densidad si existe un punto c que tiene un número suficiente de puntos en sus vecinos y ambos puntos a y b están dentro de la distancia eps. Este es un proceso de encadenamiento. Entonces, si b es vecino de c, c es vsu vez es vecino de a implica que b es vecino de a."
   ]
  },
  {
   "cell_type": "code",
   "execution_count": 17,
   "metadata": {},
   "outputs": [],
   "source": [
    "from   sklearn.cluster         import DBSCAN \n",
    "from   sklearn                 import metrics \n",
    "from   sklearn.preprocessing   import StandardScaler \n",
    "import numpy                   as     np \n",
    "from   sklearn.decomposition   import PCA\n",
    "import matplotlib.pylab        as     plt\n",
    "from   sklearn.metrics       import silhouette_score,calinski_harabaz_score"
   ]
  },
  {
   "cell_type": "code",
   "execution_count": 7,
   "metadata": {},
   "outputs": [],
   "source": [
    "#cargamos los datos de iris\n",
    "iris=datasets.load_iris()\n",
    "X=iris.data"
   ]
  },
  {
   "cell_type": "code",
   "execution_count": 12,
   "metadata": {},
   "outputs": [],
   "source": [
    "#obtenemos los dos componentes principales de iris mediante PCA\n",
    "pca=PCA(n_components=2).fit(X)\n",
    "pca_2d=pca.transform(X)"
   ]
  },
  {
   "cell_type": "code",
   "execution_count": 13,
   "metadata": {},
   "outputs": [
    {
     "data": {
      "text/plain": [
       "DBSCAN(algorithm='auto', eps=0.5, leaf_size=30, metric='euclidean',\n",
       "       metric_params=None, min_samples=5, n_jobs=None, p=None)"
      ]
     },
     "execution_count": 13,
     "metadata": {},
     "output_type": "execute_result"
    }
   ],
   "source": [
    "#ajustamos el dbscan\n",
    "dbscan=DBSCAN(eps=0.5, metric='euclidean', min_samples=5)\n",
    "dbscan.fit(X)"
   ]
  },
  {
   "cell_type": "code",
   "execution_count": 18,
   "metadata": {},
   "outputs": [
    {
     "data": {
      "text/plain": [
       "0.48603419703456835"
      ]
     },
     "execution_count": 18,
     "metadata": {},
     "output_type": "execute_result"
    }
   ],
   "source": [
    "silhouette_score(X,dbscan.labels_)"
   ]
  },
  {
   "cell_type": "code",
   "execution_count": 14,
   "metadata": {},
   "outputs": [
    {
     "data": {
      "image/png": "[encoded data removed]",
      "text/plain": [
       "<Figure size 432x288 with 1 Axes>"
      ]
     },
     "metadata": {
      "needs_background": "light"
     },
     "output_type": "display_data"
    }
   ],
   "source": [
    "for i in range(0, pca_2d.shape[0]):\n",
    "    if dbscan.labels_[i] == 0:\n",
    "        c1 = plt.scatter(pca_2d[i, 0], pca_2d[i, 1], c='r', marker='+')\n",
    "    elif dbscan.labels_[i] == 1:\n",
    "        c2 = plt.scatter(pca_2d[i, 0], pca_2d[i, 1], c='g', marker='o')\n",
    "    elif dbscan.labels_[i] == -1:\n",
    "        c3 = plt.scatter(pca_2d[i, 0], pca_2d[i, 1], c='b', marker='*')\n",
    "plt.legend([c1, c2, c3], ['Cluster 1', 'Cluster 2', 'Ruido'])\n",
    "plt.title('DBSCAN con dos Cluster y ruido')\n",
    "plt.show()"
   ]
  }
 ],
 "metadata": {
  "kernelspec": {
   "display_name": "Python 3",
   "language": "python",
   "name": "python3"
  },
  "language_info": {
   "codemirror_mode": {
    "name": "ipython",
    "version": 3
   },
   "file_extension": ".py",
   "mimetype": "text/x-python",
   "name": "python",
   "nbconvert_exporter": "python",
   "pygments_lexer": "ipython3",
   "version": "3.7.3"
  }
 },
 "nbformat": 4,
 "nbformat_minor": 2
}
