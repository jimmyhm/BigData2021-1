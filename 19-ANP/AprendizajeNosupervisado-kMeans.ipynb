{
 "cells": [
  {
   "cell_type": "markdown",
   "metadata": {},
   "source": [
    "Anteriormente se han hecho predicciones de los valores de una o más salidas o variables de respuesta $Y=(Y_1,...,Y_m)$ para un conjunto dado de entrada o variables predictoras $X^T=(X_1,...,X_p).$ \n",
    "\n",
    "Denotamos por $x^T_i=(x_{i1},...,x_{ip})$ las entradas para el $i$-ésimo caso de entrenamiento, y sea $y_i$ la respuesta. Las predicciones se basan en la muestra de entrenamiento   $(x_1,y_1),...,(x_N,y_N)$ de casos previamente resueltos, donde se conocen los valores conjuntos de todas las variables. A esto se le llama $\\textit{aprendizaje supervizado}$ o \"aprendizaje con profesor\". Bajo esta metafora, el estudiante presenta una respuesta $\\hat{y_i}$ para cada $x_i$,en la muestra de entrenamiento, y el supervisor o \"maestro\" proporciona la respuesta correcta y un error asociado con la respuesta del estudiante. Esto generalmente se caracteriza por alguna función de pérdida $L(y,\\hat{y})$, por ejemplo,$L(y,\\hat{y})= (y-\\hat{y})^2$."
   ]
  },
  {
   "cell_type": "markdown",
   "metadata": {},
   "source": [
    "Si se supone que $(X,Y)$ son variables aleatorias representadas por alguna densidad de probabilidad conjunta Pr$(X,Y)$, entonces el aprendizaje supervisado puede caracterizarse formalmente como un problema de estimación de densidad en el que uno se ocupa de determinar propiedades de la densidad condicional Pr$(Y|X)$. Por lo general, las propiedades de interés son los parámetros de \"localización\" $\\mu$ que minimizan el error esperado en cada $x$,\n",
    "$$\n",
    "\\mu(x)=\\underset{\\theta}{argmin} E_{Y|X} L (Y, \\theta).\n",
    "$$\n"
   ]
  },
  {
   "cell_type": "markdown",
   "metadata": {},
   "source": [
    "Descomponiendo la conjunta, uno tiene\n",
    "$Pr(X, Y)=Pr(Y|X)·Pr(X),$ donde $Pr(X)$ es la densidad marginal conjunta de los valores de $X$. En el aprendizaje supervisado, Pr$(X)$ no suele ser de interés directo. Uno está interesado principalmente en las propiedades de la densidad condicional $Pr(Y|X)$. Dado que $Y$ es a menudo de baja dimensión (generalmente uno), y solo su localización $\\mu(x)$ es de interés, el problema se simplifica enormemente."
   ]
  },
  {
   "cell_type": "markdown",
   "metadata": {},
   "source": [
    "A continuación abordamos el aprendizaje no supervisado o \"aprendizaje sin un profesor\". En este caso, se tiene un conjunto de $N$ observaciones $(x_1, x_2, ..., x_N)$ de un vector aleatorio $X$ $p-variado$ que tiene una densidad conjunta Pr$(X)$. El objetivo es inferir directamente las propiedades de esta densidad de probabilidad sin la ayuda de un supervisor o maestro que proporcione respuestas correctas o grado de error para cada observación. La dimensión de $X$ es a veces mucho más alta que en el aprendizaje supervisado, y las propiedades de interés suelen ser más complicadas que las simples estimaciones de localicación. Estos factores se mitigan un poco por el hecho de que $X$ representa todas las variables consideradas; no se requiere inferir cómo cambian las propiedades de Pr$(X)$, condicionadas a los valores de otro conjunto de variables."
   ]
  },
  {
   "cell_type": "markdown",
   "metadata": {},
   "source": [
    "### Análisis de conglomerados"
   ]
  },
  {
   "cell_type": "markdown",
   "metadata": {},
   "source": [
    "El análisis de conglomerados, también llamada segmentación de datos, tiene una variedad de objetivos. Todos se relacionan con agrupar o segmentar una colección de objetos en subconjuntos o \"conglomerados\", de modo que los que están dentro de cada grupo están más estrechamente relacionados entre sí que los objetos asignados a diferentes grupos. Un objeto puede describirse mediante un conjunto de medidas o por su relación con otros objetos. Además, en ocasiones, el objetivo es organizar los grupos en una jerarquía natural. Esto implica agrupar sucesivamente los grupos en sí mismos de modo que en cada nivel de la jerarquía, los conglomerados dentro del mismo grupo sean más similares entre sí que los de diferentes grupos."
   ]
  },
  {
   "cell_type": "markdown",
   "metadata": {},
   "source": [
    "El análisis de conglomerados también se utiliza para formar estadísticas descriptivas para determinar si los datos consisten o no en un conjunto de subgrupos distintos, cada grupo representa objetos con propiedades sustancialmente diferentes. Este último objetivo requiere una evaluación del grado de diferencia entre los objetos asignados a los respectivos conglomerados."
   ]
  },
  {
   "cell_type": "markdown",
   "metadata": {},
   "source": [
    "Un elemento central de todos los objetivos del análisis de conglomerados es la noción del grado de similitud (o disimilitud) entre los objetos individuales que se aglomeran. Un método de aglomeración intenta agrupar los objetos según la definición de similitud que se le proporciona. La situación es algo similar a la especificación de una función de pérdida o costo en problemas de predicción (aprendizaje supervisado). Allí, el costo asociado con una predicción inexacta depende de consideraciones externas a los datos."
   ]
  },
  {
   "cell_type": "markdown",
   "metadata": {},
   "source": [
    " El agrupamiento de K-means comienza con conjeturas para los tres centros del grupo. Luego alterna los siguientes pasos hasta la convergencia:\n",
    "• Para cada data point, se identifica (en la distancia Euclidiana), el centro del conglomerado más cercano;\n",
    "• el centro de cada conglomerado es reemplazado por el promedio de coordenadas de todos los data points que están más cerca de él.\n",
    "\n",
    " \n",
    " La agrupación en clústeres de K-means es un procedimiento de \"arriba hacia abajo\", mientras que otros enfoques de clústeres son de abajo hacia arriba. Fundamental para todas las técnicas de agrupamiento es la elección de la medida de distancia o disimilitud entre dos objetos. Veamos una de las medidas de distancia antes de describir el algoritmo:"
   ]
  },
  {
   "cell_type": "markdown",
   "metadata": {},
   "source": [
    "##### Disimilitudes basadas en atributos"
   ]
  },
  {
   "cell_type": "markdown",
   "metadata": {},
   "source": [
    "La mayoría de las veces tenemos medidas $x_{ij}$ para $i = 1, 2,. . . , N$, sobre las variables $j = 1, 2,. . . ,p$ $\\textit{también llamados atributos}$. Dado que la mayoría de los algoritmos de agrupamiento populares toman una matriz de disimilitud como entrada, primero debemos construir disimilitudes por pares entre las observaciones. En el caso más común, definimos una disimilitud $d_j (x_{ij}, x_{i′j})$ entre valores del atributo $j$th, y entonces definimos:\n",
    "\n",
    "$D (x_i, x_i') = \\sum^p_{j=1} d_j (x_{ij}, x_{i′j})$,"
   ]
  },
  {
   "cell_type": "markdown",
   "metadata": {},
   "source": [
    "como la disimilitud entre los objetos $i$ e $i ′$. Por mucho, la opción más común es la distancia al cuadrado\n",
    "\n",
    "$d_j(x_ij,x_i′j) = (x_ij − x_i′j)^2.$\n",
    "\n",
    "Sin embargo, otras opciones son posibles y pueden conducir a resultados potencialmente diferentes. Para atributos no cuantitativos (por ejemplo, datos categóricos), la distancia al cuadrado puede no ser apropiada. Además, a veces es deseable ponderar los atributos de manera diferente en lugar de darles la misma ponderación. \n",
    "\n",
    "A continuación describiremos unos de los algoritmos de clusterización mas populares conocido como $k-means$"
   ]
  },
  {
   "cell_type": "markdown",
   "metadata": {},
   "source": [
    "### K-means"
   ]
  },
  {
   "cell_type": "markdown",
   "metadata": {},
   "source": [
    "El algoritmo K-means es uno de los métodos de agrupamiento más populares. Está destinado a situaciones en las que todas las variables son de tipo cuantitativo y distancia Euclidiana al cuadrado.\n",
    "\n",
    "$d(x_i, x_{i ′}) = \\sum^{p}_{j=1} (x_{ij}−x_{i′j})^2 = || x_i−x_{i′}||^2$\n",
    "\n",
    "se elige como medida de disimilitud. \n",
    "El algoritmo es muy sencillo y consta de los siguientes pasos:\n",
    "\n",
    "1. Fijamos el número de clúster e inciamos aleatoreamente en un punto. \n",
    "    1. Calculamos la distancia a los centros, asignamos el punto al cluster cuya distancia al centro sea la mas pequeña.\n",
    "2. Actualizamos el el centro como el promedio de los puntos que pertenecen a ese clúster. \n",
    "Repetimos los pasos anteriores hasta alcanzar convergencia"
   ]
  },
  {
   "cell_type": "code",
   "execution_count": 10,
   "metadata": {},
   "outputs": [],
   "source": [
    "import pandas                as     pd\n",
    "import matplotlib.pylab      as     plt\n",
    "from   sklearn.preprocessing import LabelEncoder,MinMaxScaler\n",
    "from   sklearn.cluster       import KMeans\n",
    "from   sklearn.metrics       import silhouette_score,calinski_harabasz_score"
   ]
  },
  {
   "cell_type": "code",
   "execution_count": null,
   "metadata": {},
   "outputs": [],
   "source": [
    "df=pd.read_csv(\"titanic.csv\")\n",
    "df.head()"
   ]
  },
  {
   "cell_type": "code",
   "execution_count": 2,
   "metadata": {},
   "outputs": [],
   "source": [
    "#aplicamos un string indexer\n",
    "col=[\"sex\",\"class\",\"deck\",\"embark_town\",\"alone\"]\n",
    "def stringIndexer(df,col):\n",
    "    X=df\n",
    "    for i in col:\n",
    "        X[i+\"strindexer\"]=LabelEncoder().fit_transform(X[i]) \n",
    "        X=X.drop(i,1)\n",
    "    return X"
   ]
  },
  {
   "cell_type": "code",
   "execution_count": 6,
   "metadata": {},
   "outputs": [],
   "source": [
    "X=stringIndexer(df,col).drop(\"survived\",1)"
   ]
  },
  {
   "cell_type": "code",
   "execution_count": 7,
   "metadata": {},
   "outputs": [
    {
     "data": {
      "text/html": [
       "<div>\n",
       "<style scoped>\n",
       "    .dataframe tbody tr th:only-of-type {\n",
       "        vertical-align: middle;\n",
       "    }\n",
       "\n",
       "    .dataframe tbody tr th {\n",
       "        vertical-align: top;\n",
       "    }\n",
       "\n",
       "    .dataframe thead th {\n",
       "        text-align: right;\n",
       "    }\n",
       "</style>\n",
       "<table border=\"1\" class=\"dataframe\">\n",
       "  <thead>\n",
       "    <tr style=\"text-align: right;\">\n",
       "      <th></th>\n",
       "      <th>age</th>\n",
       "      <th>n_siblings_spouses</th>\n",
       "      <th>parch</th>\n",
       "      <th>fare</th>\n",
       "      <th>sexstrindexer</th>\n",
       "      <th>classstrindexer</th>\n",
       "      <th>deckstrindexer</th>\n",
       "      <th>embark_townstrindexer</th>\n",
       "      <th>alonestrindexer</th>\n",
       "    </tr>\n",
       "  </thead>\n",
       "  <tbody>\n",
       "    <tr>\n",
       "      <th>0</th>\n",
       "      <td>22.0</td>\n",
       "      <td>1</td>\n",
       "      <td>0</td>\n",
       "      <td>7.2500</td>\n",
       "      <td>1</td>\n",
       "      <td>2</td>\n",
       "      <td>7</td>\n",
       "      <td>2</td>\n",
       "      <td>0</td>\n",
       "    </tr>\n",
       "    <tr>\n",
       "      <th>1</th>\n",
       "      <td>38.0</td>\n",
       "      <td>1</td>\n",
       "      <td>0</td>\n",
       "      <td>71.2833</td>\n",
       "      <td>0</td>\n",
       "      <td>0</td>\n",
       "      <td>2</td>\n",
       "      <td>0</td>\n",
       "      <td>0</td>\n",
       "    </tr>\n",
       "  </tbody>\n",
       "</table>\n",
       "</div>"
      ],
      "text/plain": [
       "    age  n_siblings_spouses  parch     fare  sexstrindexer  classstrindexer  \\\n",
       "0  22.0                   1      0   7.2500              1                2   \n",
       "1  38.0                   1      0  71.2833              0                0   \n",
       "\n",
       "   deckstrindexer  embark_townstrindexer  alonestrindexer  \n",
       "0               7                      2                0  \n",
       "1               2                      0                0  "
      ]
     },
     "execution_count": 7,
     "metadata": {},
     "output_type": "execute_result"
    }
   ],
   "source": [
    "X.head(2)"
   ]
  },
  {
   "cell_type": "code",
   "execution_count": 8,
   "metadata": {},
   "outputs": [],
   "source": [
    "minmax_scaler=MinMaxScaler()\n",
    "X_est=minmax_scaler.fit_transform(X)"
   ]
  },
  {
   "cell_type": "code",
   "execution_count": 16,
   "metadata": {},
   "outputs": [
    {
     "data": {
      "text/plain": [
       "array([[ 2.89924447e-01,  1.62109375e-01,  2.09635417e-01,\n",
       "         4.65911752e-02,  2.22044605e-16,  8.28125000e-01,\n",
       "         9.87723214e-01,  5.26041667e-01, -1.44328993e-15],\n",
       "       [ 3.68371826e-01, -3.74700271e-16, -1.11022302e-16,\n",
       "         2.04868598e-02,  1.00000000e+00,  8.95209581e-01,\n",
       "         9.95295124e-01,  5.64870259e-01,  1.00000000e+00],\n",
       "       [ 3.47826087e-01,  1.38777878e-16,  0.00000000e+00,\n",
       "         4.35898988e-02, -1.22124533e-15,  7.60000000e-01,\n",
       "         9.62857143e-01,  4.90000000e-01,  1.00000000e+00],\n",
       "       [ 4.37959666e-01,  1.04952830e-01,  1.21069182e-01,\n",
       "         2.05961112e-01,  4.33962264e-01, -2.22044605e-16,\n",
       "         3.59838275e-01,  3.83647799e-01, -1.22124533e-15],\n",
       "       [ 2.74760199e-01,  2.19791667e-01,  1.41666667e-01,\n",
       "         4.95474801e-02,  1.00000000e+00,  8.41666667e-01,\n",
       "         9.86904762e-01,  5.50000000e-01, -1.33226763e-15],\n",
       "       [ 4.82660180e-01,  1.38777878e-16,  0.00000000e+00,\n",
       "         1.07417594e-01,  7.47572816e-01,  9.70873786e-03,\n",
       "         4.36893204e-01,  4.40129450e-01,  1.00000000e+00]])"
      ]
     },
     "execution_count": 16,
     "metadata": {},
     "output_type": "execute_result"
    }
   ],
   "source": [
    "# usamos n_clusters para que divida el cojunto en tres grupos\n",
    "clu=KMeans(n_clusters=6)\n",
    "clu.fit(X_est)\n",
    "#imprimimos los centroides de cada uno de los grupos\n",
    "clu.cluster_centers_"
   ]
  },
  {
   "cell_type": "code",
   "execution_count": 10,
   "metadata": {},
   "outputs": [
    {
     "data": {
      "text/plain": [
       "array([2, 1, 0, 1, 0, 2, 2, 2, 2, 0], dtype=int32)"
      ]
     },
     "execution_count": 10,
     "metadata": {},
     "output_type": "execute_result"
    }
   ],
   "source": [
    "#almacena el grupo al que pertenecen cada una de la observaciones\n",
    "clu.labels_[:10]"
   ]
  },
  {
   "cell_type": "markdown",
   "metadata": {},
   "source": [
    "### Tipos de Validación de Clustering \n",
    "La validación externa y la validación interna son las dos categorías para la validación en clustering. A diferencia de las métricas de validación externa, las internas evalúan que tan buena es la estructura del clustering sin necesidad de información ajena al propio algoritmo y su resultado.\n",
    "\n",
    "La validación externa mide la calidad del agrupamiento conociendo información externa de antemano.\n",
    "Las métricas de validación interna pueden usarse para escoger el número de clúster óptimo sin ningún tipo de información adicional.\n",
    "#### Métricas de Validación Interna\n",
    "las métricas de validación interna están basadas usualmente en los\n",
    "dos siguientes criterios:\n",
    "* Cohesión. El miembro de cada clúster debe ser lo más cercano posible a los otros miembros del mismo clúster.\n",
    "* Separación. Los clúster deben estar ampliamente separados entre ellos. Existen varios maneras para medir esta distancia entre clúster: distancia entre el miembro más cercano, distancia entre los miembros más distantes o la distancia entre los centroides"
   ]
  },
  {
   "cell_type": "markdown",
   "metadata": {},
   "source": [
    "Una medida interna especialmente usada para evaluar la cohesión es la suma de cuadrados dentro del cluster (Sum of Square Within):\n",
    "$$\n",
    "SSW =\\sum_{i=1}^k\\sum_{x\\in C_i} d^2(m_i,x)\n",
    "$$\n",
    "donde $k$ es el número de cluster y $x$ es un punto en el clúster $C_i$ y $m_i$ es el centroide del cluster $C_i$.\n",
    "\n",
    "Para medir la separación se utiliza la suma de cuadrados entre clusteres (Sum of Square Between):\n",
    "$$\n",
    "SSB=\\sum_{i=1}^k n_id^2(c_i-\\bar{x})\n",
    "$$\n",
    "donde $𝑛_i$ el número de elementos en el clúster $j$, $𝑐_i$ el centroide del clúster $i$ y $\\bar{𝑥 }$ es la media del data set"
   ]
  },
  {
   "cell_type": "markdown",
   "metadata": {},
   "source": [
    "Las medidas basadas en las sumas de cuadrados se caracterizan por medir o cuantificar la dispersión de los\n",
    "puntos a nivel inter-cluster e intra-cluster. Estos son:\n",
    "* Ball Hall $\\dfrac{SSW}{k}$\n",
    "* Calinski y Harabasz  $\\dfrac{SSB/(k-1)}{SSW/(n-k)}$    \n",
    "* Hartigan $𝑙𝑜𝑔(\\dfrac{SSB}{SSW})$"
   ]
  },
  {
   "cell_type": "markdown",
   "metadata": {},
   "source": [
    "Complementarias a estas métricas existen otras como el coeficiente de Silhouette, dado $x$ un punto del conjunto de datos:\n",
    "\n",
    "* Cohesión a(x) : distancia promedio de x a todos los demás puntos en el mismo clúster.\n",
    "* Separación b(x) : distancia promedio de x a todos los demás puntos en el clúster más cercano."
   ]
  },
  {
   "cell_type": "markdown",
   "metadata": {},
   "source": [
    "<img src=\"coh.png\">"
   ]
  },
  {
   "cell_type": "markdown",
   "metadata": {},
   "source": [
    "El coeficiente de silhouette para el punto x está definido como:\n",
    "\n",
    "$$\n",
    "𝑠(x) = \\dfrac{𝑏(x) − 𝑎(x)}{max \\{𝑎(x) , 𝑏(x) \\}}\n",
    "$$\n",
    "\n",
    "$$\n",
    "S(x)=\\dfrac{1}{N} \\sum_{i=1}^N s(x_i)\n",
    "$$\n",
    "Donde el valor de S(x) puede está entre -1 y 1 y significa:\n",
    "* -1 = mal agrupamiento\n",
    "* 0 = indiferente\n",
    "* 1 = bueno"
   ]
  },
  {
   "cell_type": "code",
   "execution_count": 17,
   "metadata": {},
   "outputs": [
    {
     "data": {
      "text/plain": [
       "0.49195332835366484"
      ]
     },
     "execution_count": 17,
     "metadata": {},
     "output_type": "execute_result"
    }
   ],
   "source": [
    "#como podemos observar el agrupamiento no es tan malo\n",
    "silhouette_score(X_est,clu.labels_)"
   ]
  },
  {
   "cell_type": "code",
   "execution_count": 18,
   "metadata": {},
   "outputs": [
    {
     "name": "stderr",
     "output_type": "stream",
     "text": [
      "/home/jimmy/anaconda3/lib/python3.7/site-packages/sklearn/utils/deprecation.py:87: FutureWarning: Function calinski_harabaz_score is deprecated; Function 'calinski_harabaz_score' has been renamed to 'calinski_harabasz_score' and will be removed in version 0.23.\n",
      "  warnings.warn(msg, category=FutureWarning)\n"
     ]
    },
    {
     "data": {
      "text/plain": [
       "477.2780507727924"
      ]
     },
     "execution_count": 18,
     "metadata": {},
     "output_type": "execute_result"
    }
   ],
   "source": [
    "calinski_harabaz_score(X_est,clu.labels_)"
   ]
  },
  {
   "cell_type": "markdown",
   "metadata": {},
   "source": [
    "Para encontrar el numero óptimo de cluster usaremos el método de Elbow que examina el porcentaje de varianza explicada en función del número de grupos. De esta manera podemos encontrar el número de $k$ apropiado."
   ]
  },
  {
   "cell_type": "code",
   "execution_count": 14,
   "metadata": {},
   "outputs": [],
   "source": [
    "iner = []\n",
    "for i in range(1, 11):\n",
    "    kmeans = KMeans(n_clusters = i, init = 'k-means++', random_state = 42)\n",
    "    kmeans.fit(X_est)\n",
    "    iner.append(kmeans.inertia_)"
   ]
  },
  {
   "cell_type": "code",
   "execution_count": 15,
   "metadata": {},
   "outputs": [
    {
     "data": {
      "image/png": "[encoded data removed]",
      "text/plain": [
       "<Figure size 432x288 with 1 Axes>"
      ]
     },
     "metadata": {
      "needs_background": "light"
     },
     "output_type": "display_data"
    }
   ],
   "source": [
    "# Grafica de la suma de las distancias\n",
    "plt.plot(range(1, 11), iner)\n",
    "plt.title('Método del codo)')\n",
    "plt.xlabel('Numero de clusters')\n",
    "plt.ylabel('Inercia')\n",
    "plt.show()"
   ]
  },
  {
   "cell_type": "markdown",
   "metadata": {},
   "source": [
    "Vemos que se forma un codo en 6 por lo tanto $K=6$. Ahora veamos el valor de silhouette para este $k$."
   ]
  },
  {
   "cell_type": "code",
   "execution_count": 55,
   "metadata": {},
   "outputs": [
    {
     "data": {
      "text/plain": [
       "0.49196548319371824"
      ]
     },
     "execution_count": 55,
     "metadata": {},
     "output_type": "execute_result"
    }
   ],
   "source": [
    "clu=KMeans(n_clusters=6)\n",
    "clu.fit(X_est)\n",
    "silhouette_score(X_est,clu.labels_)"
   ]
  },
  {
   "cell_type": "code",
   "execution_count": 26,
   "metadata": {},
   "outputs": [],
   "source": [
    "from sklearn.cluster import DBSCAN "
   ]
  },
  {
   "cell_type": "markdown",
   "metadata": {},
   "source": [
    "Vemos que silhouette mejora considerablemente."
   ]
  },
  {
   "cell_type": "code",
   "execution_count": 22,
   "metadata": {},
   "outputs": [
    {
     "data": {
      "text/plain": [
       "DBSCAN(algorithm='auto', eps=0.5, leaf_size=30, metric='euclidean',\n",
       "       metric_params=None, min_samples=5, n_jobs=None, p=None)"
      ]
     },
     "execution_count": 22,
     "metadata": {},
     "output_type": "execute_result"
    }
   ],
   "source": [
    "dbscan=DBSCAN(eps=0.5, metric='euclidean', min_samples=5)\n",
    "dbscan.fit(X_est)"
   ]
  },
  {
   "cell_type": "code",
   "execution_count": 29,
   "metadata": {},
   "outputs": [
    {
     "data": {
      "text/plain": [
       "array([-1,  0,  1,  2,  3,  4,  5,  6,  7,  8,  9, 10, 11, 12, 13, 14, 15])"
      ]
     },
     "execution_count": 29,
     "metadata": {},
     "output_type": "execute_result"
    }
   ],
   "source": [
    "import numpy as np\n",
    "np.unique(dbscan.labels_)"
   ]
  },
  {
   "cell_type": "code",
   "execution_count": 30,
   "metadata": {},
   "outputs": [
    {
     "data": {
      "text/plain": [
       "0.42039994053480023"
      ]
     },
     "execution_count": 30,
     "metadata": {},
     "output_type": "execute_result"
    }
   ],
   "source": [
    "silhouette_score(X_est,dbscan.labels_)"
   ]
  }
 ],
 "metadata": {
  "kernelspec": {
   "display_name": "Python 3",
   "language": "python",
   "name": "python3"
  },
  "language_info": {
   "codemirror_mode": {
    "name": "ipython",
    "version": 3
   },
   "file_extension": ".py",
   "mimetype": "text/x-python",
   "name": "python",
   "nbconvert_exporter": "python",
   "pygments_lexer": "ipython3",
   "version": "3.7.3"
  }
 },
 "nbformat": 4,
 "nbformat_minor": 2
}
