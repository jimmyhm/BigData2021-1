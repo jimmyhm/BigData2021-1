{
 "cells": [
  {
   "cell_type": "code",
   "execution_count": 1,
   "metadata": {},
   "outputs": [],
   "source": [
    "#bibliotecas necesarias para el funcionamiento\n",
    "import pandas                  as pd                     #manejo y manipulación de dataframes\n",
    "import scipy\n",
    "import numpy                   as np                     #soporte matricial y vectorial\n",
    "import matplotlib.pyplot       as plt                    #graficos\n",
    "import joblib\n",
    "from   sklearn.model_selection import GridSearchCV       #optimización de hiperparametros\n",
    "from   sklearn                 import metrics            #metricas de validación\n",
    "from   sklearn.model_selection import train_test_split   #segmentación de muestra\n",
    "from   sklearn.linear_model    import LogisticRegression #clasificador \n",
    "from   sklearn.impute          import SimpleImputer      \n",
    "from   sklearn.compose         import ColumnTransformer\n",
    "from   sklearn.pipeline        import Pipeline\n",
    "from   sklearn.preprocessing   import LabelEncoder\n",
    "from   sklearn.preprocessing   import OneHotEncoder,StandardScaler\n",
    "from   sklearn.preprocessing   import KBinsDiscretizer\n",
    "from   sklearn.metrics         import accuracy_score, precision_score, recall_score, f1_score"
   ]
  },
  {
   "cell_type": "code",
   "execution_count": 2,
   "metadata": {},
   "outputs": [
    {
     "name": "stdout",
     "output_type": "stream",
     "text": [
      "Requirement already satisfied: joblib in /home/jimmy/anaconda3/lib/python3.7/site-packages (0.13.2)\r\n"
     ]
    }
   ],
   "source": [
    "!pip install joblib"
   ]
  },
  {
   "cell_type": "code",
   "execution_count": 3,
   "metadata": {},
   "outputs": [],
   "source": [
    "#columnas con las covariables que se van a seleccionar del modelo\n",
    "columnas=[\"SEXO\",\"OBESIDAD\",\"DIABETES\",\"EPOC\",\"ASMA\",\"CARDIOVASCULAR\",\"RENAL CRONICA\",\"INMUNOSUPRESION\",\"HIPERTENSION\",\"TABAQUISMO\",\"TIPO PACIENTE\",\"EDAD\"]"
   ]
  },
  {
   "cell_type": "code",
   "execution_count": 4,
   "metadata": {},
   "outputs": [],
   "source": [
    "#Nos quedamos unicamente con los positivos\n",
    "filelocal=\"dataCovid/casos-asociados-a-covid-1920jul.csv\"\n",
    "def getData(file,columnas,filtro=\"positivo\"):\n",
    "    df=pd.read_csv(file,header=0,sep=\",\",encoding='utf-8',low_memory=False)\n",
    "    df=df.query(filtro+\"=='Positivo SARS-CoV-2'\")\n",
    "    df=df.loc[:,columnas]\n",
    "    print(\"casos totales\")\n",
    "    print(df.shape)\n",
    "    return df  "
   ]
  },
  {
   "cell_type": "code",
   "execution_count": 5,
   "metadata": {},
   "outputs": [],
   "source": [
    "#quitamos aquellos datos donde se ingora la condicion\n",
    "def limpiaData(data,feature,conditions):\n",
    "    df=data\n",
    "    for i in feature:\n",
    "        df = df.drop(df[(df[i] == conditions)].index)\n",
    "    print(\"datos finales \"+str(df.shape))    \n",
    "    return df"
   ]
  },
  {
   "cell_type": "code",
   "execution_count": 6,
   "metadata": {},
   "outputs": [
    {
     "name": "stdout",
     "output_type": "stream",
     "text": [
      "casos totales\n",
      "(349396, 12)\n",
      "datos finales (347353, 12)\n"
     ]
    }
   ],
   "source": [
    "df=getData(filelocal,columnas) \n",
    "feat=['OBESIDAD','DIABETES','EPOC','ASMA',\"CARDIOVASCULAR\",'RENAL CRONICA',\"INMUNOSUPRESION\",\"HIPERTENSION\",\"TABAQUISMO\"]\n",
    "df=limpiaData(df,feat,'SE IGNORA')"
   ]
  },
  {
   "cell_type": "code",
   "execution_count": 7,
   "metadata": {},
   "outputs": [],
   "source": [
    "df=df.query(\"EDAD<100\")"
   ]
  },
  {
   "cell_type": "code",
   "execution_count": 11,
   "metadata": {},
   "outputs": [],
   "source": [
    "df.to_csv(\"covidfilter.csv\")"
   ]
  },
  {
   "cell_type": "code",
   "execution_count": 21,
   "metadata": {},
   "outputs": [
    {
     "data": {
      "text/plain": [
       "AMBULATORIO      248931\n",
       "HOSPITALIZADO     98365\n",
       "Name: TIPO PACIENTE, dtype: int64"
      ]
     },
     "execution_count": 21,
     "metadata": {},
     "output_type": "execute_result"
    }
   ],
   "source": [
    "#proporción de pacientes ambulatorios y hospitalizados\n",
    "df[\"TIPO PACIENTE\"].value_counts()"
   ]
  },
  {
   "cell_type": "code",
   "execution_count": 22,
   "metadata": {},
   "outputs": [
    {
     "data": {
      "text/html": [
       "<div>\n",
       "<style scoped>\n",
       "    .dataframe tbody tr th:only-of-type {\n",
       "        vertical-align: middle;\n",
       "    }\n",
       "\n",
       "    .dataframe tbody tr th {\n",
       "        vertical-align: top;\n",
       "    }\n",
       "\n",
       "    .dataframe thead th {\n",
       "        text-align: right;\n",
       "    }\n",
       "</style>\n",
       "<table border=\"1\" class=\"dataframe\">\n",
       "  <thead>\n",
       "    <tr style=\"text-align: right;\">\n",
       "      <th></th>\n",
       "      <th>SEXO</th>\n",
       "      <th>OBESIDAD</th>\n",
       "      <th>DIABETES</th>\n",
       "      <th>EPOC</th>\n",
       "      <th>ASMA</th>\n",
       "      <th>CARDIOVASCULAR</th>\n",
       "      <th>RENAL CRONICA</th>\n",
       "      <th>INMUNOSUPRESION</th>\n",
       "      <th>HIPERTENSION</th>\n",
       "      <th>TABAQUISMO</th>\n",
       "      <th>EDAD</th>\n",
       "    </tr>\n",
       "  </thead>\n",
       "  <tbody>\n",
       "    <tr>\n",
       "      <th>0</th>\n",
       "      <td>MUJER</td>\n",
       "      <td>NO</td>\n",
       "      <td>NO</td>\n",
       "      <td>NO</td>\n",
       "      <td>NO</td>\n",
       "      <td>NO</td>\n",
       "      <td>NO</td>\n",
       "      <td>NO</td>\n",
       "      <td>NO</td>\n",
       "      <td>NO</td>\n",
       "      <td>51</td>\n",
       "    </tr>\n",
       "  </tbody>\n",
       "</table>\n",
       "</div>"
      ],
      "text/plain": [
       "    SEXO OBESIDAD DIABETES EPOC ASMA CARDIOVASCULAR RENAL CRONICA  \\\n",
       "0  MUJER       NO       NO   NO   NO             NO            NO   \n",
       "\n",
       "  INMUNOSUPRESION HIPERTENSION TABAQUISMO  EDAD  \n",
       "0              NO           NO         NO    51  "
      ]
     },
     "execution_count": 22,
     "metadata": {},
     "output_type": "execute_result"
    }
   ],
   "source": [
    "y=LabelEncoder().fit_transform(df[\"TIPO PACIENTE\"])\n",
    "X=df.drop([\"TIPO PACIENTE\"],axis=1)\n",
    "X.head(1)"
   ]
  },
  {
   "cell_type": "code",
   "execution_count": 23,
   "metadata": {},
   "outputs": [],
   "source": [
    "#crea un pipeline para generar el modelo\n",
    "def modelo(X_train, y_train,numeric_features,categorical_features):\n",
    "    numeric_transformer = Pipeline(steps=[\n",
    "    ('imputer', KBinsDiscretizer(n_bins=5, encode='ordinal', strategy='quantile'))])\n",
    "    categorical_transformer = Pipeline(steps=[\n",
    "        #imputacion por el valor más frecuente\n",
    "    ('imputer', SimpleImputer(strategy='most_frequent', fill_value='missing')),\n",
    "    #onehot encoder para las varibales categoricas    \n",
    "    ('onehot', OneHotEncoder(handle_unknown='ignore'))])\n",
    "    preprocessor = ColumnTransformer(\n",
    "    transformers=[\n",
    "        ('num', numeric_transformer, numeric_features),\n",
    "        ('cat', categorical_transformer, categorical_features)])\n",
    "    #el pipeline con el procesamienot y el claificador\n",
    "    clf = Pipeline(steps=[('preprocessor', preprocessor),\n",
    "                      ('classifier', gridsearh())])\n",
    "    modelo=clf.fit(X_train, y_train)\n",
    "    return modelo"
   ]
  },
  {
   "cell_type": "markdown",
   "metadata": {},
   "source": [
    "#### Hiperparámetro\n",
    "Un hiperparámetro de un modelo es una caracateristica que es externa al modelo y cuyo valor no se puede estimar a partir de los datos. El valor del hiperparámetro debe establecerse al inicio del proceso de aprendizaje.\n",
    "Ejemplo:\n",
    "1. penality: l1 o l2 se usa para especificar la norma usada en la penalización.\n",
    "2. C: Inverso de la intensidad de la regularización: los valores más pequeños de C especifican una regularización más fuerte.\n"
   ]
  },
  {
   "cell_type": "code",
   "execution_count": 34,
   "metadata": {},
   "outputs": [],
   "source": [
    "#El grid search prueba con varios modelos usando holdout 70-30\n",
    "def gridsearh():\n",
    "    clf = LogisticRegression(fit_intercept=True,solver='lbfgs',tol=1e-5,max_iter=75,n_jobs=8)\n",
    "    grid_values = {'penalty': [ 'l2'],'C':np.logspace(-5, 5, 100)}\n",
    "    \"\"\"se evalúan todas las combinaciones posibles de valores de parámetros y \n",
    "    se conserva la mejor combinacion.\"\"\"   \n",
    "    grid_clf_acc = GridSearchCV(clf, param_grid = grid_values,scoring = 'accuracy')\n",
    "    return grid_clf_acc"
   ]
  },
  {
   "cell_type": "code",
   "execution_count": 35,
   "metadata": {},
   "outputs": [
    {
     "name": "stdout",
     "output_type": "stream",
     "text": [
      "model score: 0.764\n"
     ]
    }
   ],
   "source": [
    "#El score obtenido con el modelo\n",
    "X_train, X_test, y_train, y_test = train_test_split(X, y, test_size=0.3)\n",
    "categorical_features = ['SEXO','OBESIDAD','DIABETES','EPOC','ASMA','CARDIOVASCULAR','RENAL CRONICA',\"INMUNOSUPRESION\",\"HIPERTENSION\"]\n",
    "numeric_features=['EDAD']\n",
    "modelo=modelo(X_train, y_train,numeric_features,categorical_features)\n",
    "print(\"model score: %.3f\" % modelo.score(X_test, y_test))"
   ]
  },
  {
   "cell_type": "code",
   "execution_count": 12,
   "metadata": {},
   "outputs": [
    {
     "data": {
      "text/plain": [
       "['modelos/logistic_modelV3.pkl']"
      ]
     },
     "execution_count": 12,
     "metadata": {},
     "output_type": "execute_result"
    }
   ],
   "source": [
    "#se guarda el modelo serializado\n",
    "joblib.dump(modelo,\"modelos/logistic_modelV3.pkl\")"
   ]
  },
  {
   "cell_type": "code",
   "execution_count": 14,
   "metadata": {},
   "outputs": [
    {
     "name": "stdout",
     "output_type": "stream",
     "text": [
      "[[ 0.60223161  0.24604172 -0.24458869 -0.11828154  0.11973457 -0.3105908\n",
      "   0.31204383 -0.20852159  0.20997462  0.07673378 -0.07528074 -0.09529004\n",
      "   0.09674308 -0.47427283  0.47572587 -0.38590464  0.38735768 -0.13907668\n",
      "   0.14052971]]\n",
      "[-0.97890178]\n"
     ]
    }
   ],
   "source": [
    "#Se imprimen los coeficientes asociados a los estimadores\n",
    "print(modelo.named_steps['classifier'].best_estimator_.coef_)\n",
    "print(modelo.named_steps['classifier'].best_estimator_.intercept_)"
   ]
  },
  {
   "cell_type": "code",
   "execution_count": 15,
   "metadata": {},
   "outputs": [
    {
     "name": "stdout",
     "output_type": "stream",
     "text": [
      "LogisticRegression(C=0.010722672220103232, class_weight=None, dual=False,\n",
      "                   fit_intercept=True, intercept_scaling=1, l1_ratio=None,\n",
      "                   max_iter=75, multi_class='auto', n_jobs=8, penalty='l2',\n",
      "                   random_state=None, solver='lbfgs', tol=1e-05, verbose=0,\n",
      "                   warm_start=False)\n"
     ]
    }
   ],
   "source": [
    "print(modelo.named_steps['classifier'].best_estimator_)"
   ]
  },
  {
   "cell_type": "code",
   "execution_count": 16,
   "metadata": {},
   "outputs": [
    {
     "name": "stdout",
     "output_type": "stream",
     "text": [
      "[[66503  8162]\n",
      " [16612 12957]]\n"
     ]
    }
   ],
   "source": [
    "#la matriz de confusion\n",
    "predict=modelo.predict(X_test)\n",
    "cm = metrics.confusion_matrix(y_test, predict)\n",
    "print(cm) "
   ]
  },
  {
   "cell_type": "code",
   "execution_count": 17,
   "metadata": {},
   "outputs": [
    {
     "data": {
      "text/plain": [
       "array([[0.80013235, 0.38647663],\n",
       "       [0.19986765, 0.61352337]])"
      ]
     },
     "execution_count": 17,
     "metadata": {},
     "output_type": "execute_result"
    },
    {
     "data": {
      "image/png": "[encoded data removed]",
      "text/plain": [
       "<Figure size 432x288 with 2 Axes>"
      ]
     },
     "metadata": {
      "needs_background": "light"
     },
     "output_type": "display_data"
    }
   ],
   "source": [
    "#la matriz de confusion en scikit learn noraalizado\n",
    "disp=metrics.plot_confusion_matrix(modelo, X_test, y_test,normalize=\"pred\",display_labels=np.array([\"NO\",\"SI\"]))\n",
    "disp.ax_.set_title(\"Matriz de Confusión\")\n",
    "disp.confusion_matrix"
   ]
  },
  {
   "cell_type": "markdown",
   "metadata": {},
   "source": [
    "### Métricas\n",
    "1. Accuracy o exactitud: es el número de predicciones correctas contra el número total de predicciones, \n",
    "$$\n",
    "  Accuracy= \\dfrac{TP+TN}{TP+FP+TN+FN}\n",
    "$$\n",
    "2. Precisión: Es el ratio entre positivos \"verdaderos\" y todos los positivos(que se clasificaron como tal aunque realmente no lo son),\n",
    "$$\n",
    "  Precision= \\dfrac{TP}{TP+FP}\n",
    "$$\n",
    "\n",
    "3. Recall(sensibilidad) Es el ratio de positivos \"verdaderos\" (aquellos clasificadas como positivos, que son realmente lo son) entre todos los positivos (TP y FN)\n",
    "$$\n",
    "  Recall= \\dfrac{TP}{TP+FN}\n",
    "$$"
   ]
  },
  {
   "cell_type": "code",
   "execution_count": 19,
   "metadata": {},
   "outputs": [],
   "source": [
    "#calculo de las probabilidades y el AUC\n",
    "probs = modelo.predict_proba(X_test)\n",
    "preds = probs[:,1]\n",
    "fpr, tpr, threshold = metrics.roc_curve(y_test, preds)\n",
    "roc_auc = metrics.auc(fpr, tpr)"
   ]
  },
  {
   "cell_type": "code",
   "execution_count": 37,
   "metadata": {},
   "outputs": [
    {
     "name": "stdout",
     "output_type": "stream",
     "text": [
      "Accuracy score:  0.7623232342613735\n",
      "Precision score:  0.6135233675836924\n",
      "Recall score:  0.4381954073522946\n",
      "F1 score:  0.5112452651515151\n"
     ]
    }
   ],
   "source": [
    "predictions=modelo.predict(X_test)\n",
    "print('Accuracy score: ', format(accuracy_score(y_test, predictions)))\n",
    "print('Precision score: ', format(precision_score(y_test, predictions)))\n",
    "print('Recall score: ', format(recall_score(y_test, predictions)))\n",
    "print('F1 score: ', format(f1_score(y_test, predictions)))"
   ]
  },
  {
   "cell_type": "code",
   "execution_count": 20,
   "metadata": {},
   "outputs": [
    {
     "data": {
      "text/plain": [
       "(array([25651.,  3620., 16608., 10134.,  7133.,  2646., 10019.,  3503.,\n",
       "         2997.,  7475.,  4638.,  2109.,  3034.,  2348.,   962.,   646.,\n",
       "          499.,   175.,    37.]),\n",
       " array([0.04605765, 0.09471475, 0.14337185, 0.19202896, 0.24068606,\n",
       "        0.28934316, 0.33800026, 0.38665736, 0.43531446, 0.48397157,\n",
       "        0.53262867, 0.58128577, 0.62994287, 0.67859997, 0.72725707,\n",
       "        0.77591418, 0.82457128, 0.87322838, 0.92188548, 0.97054258]),\n",
       " <a list of 19 Patch objects>)"
      ]
     },
     "execution_count": 20,
     "metadata": {},
     "output_type": "execute_result"
    },
    {
     "data": {
      "image/png": "[encoded data removed]",
      "text/plain": [
       "<Figure size 432x288 with 1 Axes>"
      ]
     },
     "metadata": {
      "needs_background": "light"
     },
     "output_type": "display_data"
    }
   ],
   "source": [
    "fig=plt.figure()\n",
    "axes=fig.add_axes([1,1,1.0,1.0])\n",
    "axes.set_title(\"Histograma de Probabilidades\")\n",
    "axes.set_xlim(0,1)\n",
    "axes.set_xlabel(\"Probabilidades\")\n",
    "axes.set_ylabel(\"frecuencia\")\n",
    "axes.hist(preds,bins=19,edgecolor=\"black\")"
   ]
  },
  {
   "cell_type": "code",
   "execution_count": 21,
   "metadata": {},
   "outputs": [
    {
     "data": {
      "text/plain": [
       "(0, 1)"
      ]
     },
     "execution_count": 21,
     "metadata": {},
     "output_type": "execute_result"
    },
    {
     "data": {
      "image/png": "[encoded data removed]",
      "text/plain": [
       "<Figure size 432x288 with 1 Axes>"
      ]
     },
     "metadata": {
      "needs_background": "light"
     },
     "output_type": "display_data"
    }
   ],
   "source": [
    "from sklearn.metrics import precision_recall_curve\n",
    "precision, recall, thresholds = precision_recall_curve(y_test, probs[:,1]) \n",
    "pr_auc = metrics.auc(recall, precision)\n",
    "plt.title(\"Precision-Recall vs Threshold\")\n",
    "plt.plot(thresholds, precision[: -1], \"b--\", label=\"Precision\")\n",
    "plt.plot(thresholds, recall[: -1], \"r--\", label=\"Recall\")\n",
    "plt.ylabel(\"Precision, Recall\")\n",
    "plt.xlabel(\"Threshold\")\n",
    "plt.legend(loc=\"lower left\")\n",
    "plt.ylim([0,1])"
   ]
  },
  {
   "cell_type": "code",
   "execution_count": 33,
   "metadata": {},
   "outputs": [
    {
     "data": {
      "image/png": "[encoded data removed]",
      "text/plain": [
       "<Figure size 432x288 with 1 Axes>"
      ]
     },
     "metadata": {
      "needs_background": "light"
     },
     "output_type": "display_data"
    }
   ],
   "source": [
    "plt.figure()\n",
    "plt.plot(fpr, tpr, label='GridSearchCV (area = %0.2f)' % roc_auc)\n",
    "plt.plot([0, 1], [0, 1],'r--')\n",
    "plt.xlim([0.0, 1.0])\n",
    "plt.ylim([0.0, 1.05])\n",
    "plt.xlabel('Tasa de falsos positivos')\n",
    "plt.ylabel('Tasa de verdaderos positivos')\n",
    "plt.title('curva ROC')\n",
    "plt.legend(loc=\"lower right\")\n",
    "plt.savefig('Log_ROC')\n",
    "plt.show()"
   ]
  }
 ],
 "metadata": {
  "kernelspec": {
   "display_name": "Python 3",
   "language": "python",
   "name": "python3"
  },
  "language_info": {
   "codemirror_mode": {
    "name": "ipython",
    "version": 3
   },
   "file_extension": ".py",
   "mimetype": "text/x-python",
   "name": "python",
   "nbconvert_exporter": "python",
   "pygments_lexer": "ipython3",
   "version": "3.7.3"
  }
 },
 "nbformat": 4,
 "nbformat_minor": 2
}
